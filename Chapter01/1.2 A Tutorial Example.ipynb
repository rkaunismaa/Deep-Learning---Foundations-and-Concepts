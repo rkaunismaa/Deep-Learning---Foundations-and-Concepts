{
 "cells": [
  {
   "cell_type": "markdown",
   "metadata": {},
   "source": [
    "## 1.2 A Tutorial Example"
   ]
  },
  {
   "cell_type": "markdown",
   "metadata": {},
   "source": [
    "    For the newcomer to the field of machine learning, many of the basic concepts and\n",
    "    much of the terminology can be introduced in the context of a simple example in-\n",
    "    volving the fitting of a polynomial to a small synthetic data set (Bishop, 2006). This\n",
    "    is a form of supervised learning problem in which we would like to make a prediction\n",
    "    for a target variable, given the value of an input variable."
   ]
  },
  {
   "cell_type": "markdown",
   "metadata": {},
   "source": [
    "#### 1.2.1 Syntethic Data\n",
    "\n",
    "    We denote the input variable by x and the target variable by t, and we assume\n",
    "    that both variables take continuous values on the real axis. Suppose that we are\n",
    "    given a training set comprising N observations of x, written x1 , . . . , xN , together\n",
    "    with corresponding observations of the values of t, denoted t1 , . . . , tN . Our goal\n",
    "    is to predict the value of t for some new value of x. The ability to make accurate\n",
    "    predictions on previously unseen inputs is a key goal in machine learning and is\n",
    "    known as generalization."
   ]
  },
  {
   "cell_type": "code",
   "execution_count": 6,
   "metadata": {},
   "outputs": [],
   "source": [
    "# import desired libraries\n",
    "import numpy as np\n",
    "import matplotlib.pyplot as plt\n",
    "import math"
   ]
  },
  {
   "cell_type": "code",
   "execution_count": 11,
   "metadata": {},
   "outputs": [],
   "source": [
    "# set a few constantes\n",
    "SEED = 42\n",
    "N = 100 # The number of samples in our training set."
   ]
  },
  {
   "cell_type": "code",
   "execution_count": 3,
   "metadata": {},
   "outputs": [],
   "source": [
    "# make this code sample reproducable\n",
    "np.random.seed(SEED)"
   ]
  },
  {
   "cell_type": "markdown",
   "metadata": {},
   "source": [
    "<img src=\"../images/numpy.random.rand.png\" alt=\"Numpy random rand\" width=\"360\">"
   ]
  },
  {
   "cell_type": "code",
   "execution_count": 4,
   "metadata": {},
   "outputs": [
    {
     "data": {
      "text/plain": [
       "array([[0.37454012, 0.95071431],\n",
       "       [0.73199394, 0.59865848],\n",
       "       [0.15601864, 0.15599452]])"
      ]
     },
     "execution_count": 4,
     "metadata": {},
     "output_type": "execute_result"
    }
   ],
   "source": [
    "np.random.rand(3, 2)"
   ]
  },
  {
   "cell_type": "code",
   "execution_count": 7,
   "metadata": {},
   "outputs": [
    {
     "data": {
      "text/plain": [
       "array([ 1,  2,  3,  4,  5,  6,  7,  8,  9, 10, 11, 12, 13, 14, 15])"
      ]
     },
     "execution_count": 7,
     "metadata": {},
     "output_type": "execute_result"
    }
   ],
   "source": [
    "np.arange(1,16)"
   ]
  },
  {
   "cell_type": "code",
   "execution_count": 6,
   "metadata": {},
   "outputs": [
    {
     "data": {
      "text/plain": [
       "[1, 2, 3, 4, 5, 6, 7, 8, 9, 10, 11, 12, 13, 14, 15]"
      ]
     },
     "execution_count": 6,
     "metadata": {},
     "output_type": "execute_result"
    }
   ],
   "source": [
    "list(range(1, 16))"
   ]
  },
  {
   "cell_type": "code",
   "execution_count": 19,
   "metadata": {},
   "outputs": [],
   "source": [
    "def linearFunction(x, addNoise=False):\n",
    "\n",
    "    # we set the value of our linear function here ... \n",
    "    returnValue = (2 * math.pi * x)\n",
    "\n",
    "    if addNoise:\n",
    "        returnValue += np.random.rand()\n",
    "\n",
    "    return returnValue\n",
    "\n",
    "    "
   ]
  },
  {
   "cell_type": "code",
   "execution_count": 17,
   "metadata": {},
   "outputs": [
    {
     "data": {
      "text/plain": [
       "array([ 1,  2,  3,  4,  5,  6,  7,  8,  9, 10, 11, 12, 13, 14, 15, 16, 17,\n",
       "       18, 19, 20, 21, 22, 23, 24, 25, 26, 27, 28, 29, 30, 31, 32, 33, 34,\n",
       "       35, 36, 37, 38, 39, 40, 41, 42, 43, 44, 45, 46, 47, 48, 49, 50, 51,\n",
       "       52, 53, 54, 55, 56, 57, 58, 59, 60, 61, 62, 63, 64, 65, 66, 67, 68,\n",
       "       69, 70, 71, 72, 73, 74, 75, 76, 77, 78, 79, 80, 81, 82, 83, 84, 85,\n",
       "       86, 87, 88, 89, 90, 91, 92, 93, 94, 95, 96, 97, 98, 99])"
      ]
     },
     "execution_count": 17,
     "metadata": {},
     "output_type": "execute_result"
    }
   ],
   "source": [
    "X = np.arange(1,N)\n",
    "X"
   ]
  },
  {
   "cell_type": "code",
   "execution_count": 23,
   "metadata": {},
   "outputs": [
    {
     "data": {
      "text/plain": [
       "array([  6.28318531,  12.56637061,  18.84955592,  25.13274123,\n",
       "        31.41592654,  37.69911184,  43.98229715,  50.26548246,\n",
       "        56.54866776,  62.83185307,  69.11503838,  75.39822369,\n",
       "        81.68140899,  87.9645943 ,  94.24777961, 100.53096491,\n",
       "       106.81415022, 113.09733553, 119.38052084, 125.66370614,\n",
       "       131.94689145, 138.23007676, 144.51326207, 150.79644737,\n",
       "       157.07963268, 163.36281799, 169.64600329, 175.9291886 ,\n",
       "       182.21237391, 188.49555922, 194.77874452, 201.06192983,\n",
       "       207.34511514, 213.62830044, 219.91148575, 226.19467106,\n",
       "       232.47785637, 238.76104167, 245.04422698, 251.32741229,\n",
       "       257.61059759, 263.8937829 , 270.17696821, 276.46015352,\n",
       "       282.74333882, 289.02652413, 295.30970944, 301.59289474,\n",
       "       307.87608005, 314.15926536, 320.44245067, 326.72563597,\n",
       "       333.00882128, 339.29200659, 345.57519189, 351.8583772 ,\n",
       "       358.14156251, 364.42474782, 370.70793312, 376.99111843,\n",
       "       383.27430374, 389.55748905, 395.84067435, 402.12385966,\n",
       "       408.40704497, 414.69023027, 420.97341558, 427.25660089,\n",
       "       433.5397862 , 439.8229715 , 446.10615681, 452.38934212,\n",
       "       458.67252742, 464.95571273, 471.23889804, 477.52208335,\n",
       "       483.80526865, 490.08845396, 496.37163927, 502.65482457,\n",
       "       508.93800988, 515.22119519, 521.5043805 , 527.7875658 ,\n",
       "       534.07075111, 540.35393642, 546.63712172, 552.92030703,\n",
       "       559.20349234, 565.48667765, 571.76986295, 578.05304826,\n",
       "       584.33623357, 590.61941887, 596.90260418, 603.18578949,\n",
       "       609.4689748 , 615.7521601 , 622.03534541])"
      ]
     },
     "execution_count": 23,
     "metadata": {},
     "output_type": "execute_result"
    }
   ],
   "source": [
    "linearFunction(X, False)"
   ]
  },
  {
   "cell_type": "code",
   "execution_count": 24,
   "metadata": {},
   "outputs": [
    {
     "data": {
      "text/plain": [
       "array([  6.57532996,  12.85851526,  19.14170057,  25.42488588,\n",
       "        31.70807118,  37.99125649,  44.2744418 ,  50.55762711,\n",
       "        56.84081241,  63.12399772,  69.40718303,  75.69036833,\n",
       "        81.97355364,  88.25673895,  94.53992426, 100.82310956,\n",
       "       107.10629487, 113.38948018, 119.67266548, 125.95585079,\n",
       "       132.2390361 , 138.52222141, 144.80540671, 151.08859202,\n",
       "       157.37177733, 163.65496264, 169.93814794, 176.22133325,\n",
       "       182.50451856, 188.78770386, 195.07088917, 201.35407448,\n",
       "       207.63725979, 213.92044509, 220.2036304 , 226.48681571,\n",
       "       232.77000101, 239.05318632, 245.33637163, 251.61955694,\n",
       "       257.90274224, 264.18592755, 270.46911286, 276.75229816,\n",
       "       283.03548347, 289.31866878, 295.60185409, 301.88503939,\n",
       "       308.1682247 , 314.45141001, 320.73459531, 327.01778062,\n",
       "       333.30096593, 339.58415124, 345.86733654, 352.15052185,\n",
       "       358.43370716, 364.71689246, 371.00007777, 377.28326308,\n",
       "       383.56644839, 389.84963369, 396.132819  , 402.41600431,\n",
       "       408.69918962, 414.98237492, 421.26556023, 427.54874554,\n",
       "       433.83193084, 440.11511615, 446.39830146, 452.68148677,\n",
       "       458.96467207, 465.24785738, 471.53104269, 477.81422799,\n",
       "       484.0974133 , 490.38059861, 496.66378392, 502.94696922,\n",
       "       509.23015453, 515.51333984, 521.79652514, 528.07971045,\n",
       "       534.36289576, 540.64608107, 546.92926637, 553.21245168,\n",
       "       559.49563699, 565.77882229, 572.0620076 , 578.34519291,\n",
       "       584.62837822, 590.91156352, 597.19474883, 603.47793414,\n",
       "       609.76111944, 616.04430475, 622.32749006])"
      ]
     },
     "execution_count": 24,
     "metadata": {},
     "output_type": "execute_result"
    }
   ],
   "source": [
    "Y = linearFunction(X, True)\n",
    "Y"
   ]
  }
 ],
 "metadata": {
  "kernelspec": {
   "display_name": "dlfac",
   "language": "python",
   "name": "python3"
  },
  "language_info": {
   "codemirror_mode": {
    "name": "ipython",
    "version": 3
   },
   "file_extension": ".py",
   "mimetype": "text/x-python",
   "name": "python",
   "nbconvert_exporter": "python",
   "pygments_lexer": "ipython3",
   "version": "3.11.9"
  }
 },
 "nbformat": 4,
 "nbformat_minor": 2
}
