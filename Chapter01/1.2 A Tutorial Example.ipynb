{
 "cells": [
  {
   "cell_type": "markdown",
   "metadata": {},
   "source": [
    "## Chapter 1 The Deep Learning Revolution"
   ]
  },
  {
   "cell_type": "markdown",
   "metadata": {},
   "source": [
    "## 1.2 A Tutorial Example"
   ]
  },
  {
   "cell_type": "markdown",
   "metadata": {},
   "source": [
    "    For the newcomer to the field of machine learning, many of the basic concepts and\n",
    "    much of the terminology can be introduced in the context of a simple example in-\n",
    "    volving the fitting of a polynomial to a small synthetic data set (Bishop, 2006). This\n",
    "    is a form of supervised learning problem in which we would like to make a prediction\n",
    "    for a target variable, given the value of an input variable."
   ]
  },
  {
   "cell_type": "markdown",
   "metadata": {},
   "source": [
    "#### 1.2.1 Synthetic Data\n",
    "\n",
    "    We denote the input variable by x and the target variable by t, and we assume\n",
    "    that both variables take continuous values on the real axis. Suppose that we are\n",
    "    given a training set comprising N observations of x, written x1 , . . . , xN , together\n",
    "    with corresponding observations of the values of t, denoted t1 , . . . , tN . Our goal\n",
    "    is to predict the value of t for some new value of x. The ability to make accurate\n",
    "    predictions on previously unseen inputs is a key goal in machine learning and is\n",
    "    known as generalization."
   ]
  },
  {
   "cell_type": "code",
   "execution_count": 6,
   "metadata": {},
   "outputs": [],
   "source": [
    "# import desired libraries\n",
    "import numpy as np\n",
    "import matplotlib.pyplot as plt\n",
    "import math"
   ]
  },
  {
   "cell_type": "code",
   "execution_count": 44,
   "metadata": {},
   "outputs": [],
   "source": [
    "# set a few constantes\n",
    "SEED = 42\n",
    "N = 100 # The number of samples in our training set."
   ]
  },
  {
   "cell_type": "code",
   "execution_count": 29,
   "metadata": {},
   "outputs": [],
   "source": [
    "# make this code sample reproducable\n",
    "np.random.seed(SEED)"
   ]
  },
  {
   "cell_type": "markdown",
   "metadata": {},
   "source": [
    "<img src=\"../images/numpy.random.rand.png\" alt=\"Numpy random rand\" width=\"360\">"
   ]
  },
  {
   "cell_type": "code",
   "execution_count": 30,
   "metadata": {},
   "outputs": [
    {
     "data": {
      "text/plain": [
       "array([[0.37454012, 0.95071431],\n",
       "       [0.73199394, 0.59865848],\n",
       "       [0.15601864, 0.15599452]])"
      ]
     },
     "execution_count": 30,
     "metadata": {},
     "output_type": "execute_result"
    }
   ],
   "source": [
    "np.random.rand(3, 2)"
   ]
  },
  {
   "cell_type": "code",
   "execution_count": 31,
   "metadata": {},
   "outputs": [
    {
     "data": {
      "text/plain": [
       "array([ 1,  2,  3,  4,  5,  6,  7,  8,  9, 10, 11, 12, 13, 14, 15])"
      ]
     },
     "execution_count": 31,
     "metadata": {},
     "output_type": "execute_result"
    }
   ],
   "source": [
    "np.arange(1,16)"
   ]
  },
  {
   "cell_type": "code",
   "execution_count": 33,
   "metadata": {},
   "outputs": [],
   "source": [
    "def linearFunction(x, addNoise=False):\n",
    "\n",
    "    # we set the value of our linear function here ... \n",
    "    returnValue = (2 * math.pi * x)\n",
    "\n",
    "    if addNoise:\n",
    "        returnValue += np.random.rand()\n",
    "\n",
    "    return returnValue\n",
    "\n",
    "    "
   ]
  },
  {
   "cell_type": "code",
   "execution_count": 45,
   "metadata": {},
   "outputs": [
    {
     "data": {
      "text/plain": [
       "array([ 1,  2,  3,  4,  5,  6,  7,  8,  9, 10, 11, 12, 13, 14, 15, 16, 17,\n",
       "       18, 19, 20, 21, 22, 23, 24, 25, 26, 27, 28, 29, 30, 31, 32, 33, 34,\n",
       "       35, 36, 37, 38, 39, 40, 41, 42, 43, 44, 45, 46, 47, 48, 49, 50, 51,\n",
       "       52, 53, 54, 55, 56, 57, 58, 59, 60, 61, 62, 63, 64, 65, 66, 67, 68,\n",
       "       69, 70, 71, 72, 73, 74, 75, 76, 77, 78, 79, 80, 81, 82, 83, 84, 85,\n",
       "       86, 87, 88, 89, 90, 91, 92, 93, 94, 95, 96, 97, 98, 99])"
      ]
     },
     "execution_count": 45,
     "metadata": {},
     "output_type": "execute_result"
    }
   ],
   "source": [
    "X = np.arange(1,N)\n",
    "X"
   ]
  },
  {
   "cell_type": "code",
   "execution_count": 35,
   "metadata": {},
   "outputs": [
    {
     "data": {
      "text/plain": [
       "array([ 6.28318531, 12.56637061, 18.84955592, 25.13274123, 31.41592654,\n",
       "       37.69911184, 43.98229715, 50.26548246, 56.54866776])"
      ]
     },
     "execution_count": 35,
     "metadata": {},
     "output_type": "execute_result"
    }
   ],
   "source": [
    "# no noise\n",
    "linearFunction(X, False)"
   ]
  },
  {
   "cell_type": "code",
   "execution_count": 46,
   "metadata": {},
   "outputs": [
    {
     "data": {
      "text/plain": [
       "array([  7.14936145,  13.43254676,  19.71573207,  25.99891737,\n",
       "        32.28210268,  38.56528799,  44.8484733 ,  51.1316586 ,\n",
       "        57.41484391,  63.69802922,  69.98121452,  76.26439983,\n",
       "        82.54758514,  88.83077045,  95.11395575, 101.39714106,\n",
       "       107.68032637, 113.96351168, 120.24669698, 126.52988229,\n",
       "       132.8130676 , 139.0962529 , 145.37943821, 151.66262352,\n",
       "       157.94580883, 164.22899413, 170.51217944, 176.79536475,\n",
       "       183.07855005, 189.36173536, 195.64492067, 201.92810598,\n",
       "       208.21129128, 214.49447659, 220.7776619 , 227.0608472 ,\n",
       "       233.34403251, 239.62721782, 245.91040313, 252.19358843,\n",
       "       258.47677374, 264.75995905, 271.04314435, 277.32632966,\n",
       "       283.60951497, 289.89270028, 296.17588558, 302.45907089,\n",
       "       308.7422562 , 315.0254415 , 321.30862681, 327.59181212,\n",
       "       333.87499743, 340.15818273, 346.44136804, 352.72455335,\n",
       "       359.00773866, 365.29092396, 371.57410927, 377.85729458,\n",
       "       384.14047988, 390.42366519, 396.7068505 , 402.99003581,\n",
       "       409.27322111, 415.55640642, 421.83959173, 428.12277703,\n",
       "       434.40596234, 440.68914765, 446.97233296, 453.25551826,\n",
       "       459.53870357, 465.82188888, 472.10507418, 478.38825949,\n",
       "       484.6714448 , 490.95463011, 497.23781541, 503.52100072,\n",
       "       509.80418603, 516.08737133, 522.37055664, 528.65374195,\n",
       "       534.93692726, 541.22011256, 547.50329787, 553.78648318,\n",
       "       560.06966848, 566.35285379, 572.6360391 , 578.91922441,\n",
       "       585.20240971, 591.48559502, 597.76878033, 604.05196564,\n",
       "       610.33515094, 616.61833625, 622.90152156])"
      ]
     },
     "execution_count": 46,
     "metadata": {},
     "output_type": "execute_result"
    }
   ],
   "source": [
    "# add some noise to the results\n",
    "y = linearFunction(X, True)\n",
    "y"
   ]
  },
  {
   "cell_type": "markdown",
   "metadata": {},
   "source": [
    "What does this data look like?"
   ]
  },
  {
   "cell_type": "code",
   "execution_count": 47,
   "metadata": {},
   "outputs": [
    {
     "data": {
      "image/png": "[encoded data removed]",
      "text/plain": [
       "<Figure size 600x400 with 1 Axes>"
      ]
     },
     "metadata": {},
     "output_type": "display_data"
    }
   ],
   "source": [
    "import matplotlib.pyplot as plt\n",
    "\n",
    "plt.figure(figsize=(6, 4))\n",
    "plt.plot(X, y, \"b.\")\n",
    "plt.xlabel(\"$X$\")\n",
    "plt.ylabel(\"$y$\", rotation=0)\n",
    "plt.axis([0, N, 0, y.max()+5])\n",
    "plt.grid()\n",
    "# save_fig(\"generated_data_plot\")\n",
    "plt.show()"
   ]
  },
  {
   "cell_type": "markdown",
   "metadata": {},
   "source": [
    "#### 1.2.2 Linear Models\n",
    "\n",
    "Our goal is to exploit this training set to predict the value bt of the target variable\n",
    "for some new value x\n",
    "b of the input variable. As we will see later, this involves im-\n",
    "plicitly trying to discover the underlying function sin(2πx). This is intrinsically a\n",
    "difficult problem as we have to generalize from a finite data set to an entire function.\n",
    "Furthermore, the observed data is corrupted with noise, and so for a given x\n",
    "b there\n",
    "is uncertainty as to the appropriate value for bt. Probability theory provides a frame-\n",
    "work for expressing such uncertainty in a precise and quantitative manner, whereas\n",
    "decision theory allows us to exploit this probabilistic representation to make predic-\n",
    "tions that are optimal according to appropriate criteria. Learning probabilities from\n",
    "data lies at the heart of machine learning and will be explored in great detail in this\n",
    "book."
   ]
  },
  {
   "cell_type": "markdown",
   "metadata": {},
   "source": [
    "To start with, however, we will proceed rather informally and consider a simple approach based on curve fitting. \n",
    "In particular, we will fit the data using a polynomial function of the form\n",
    "\n",
    "<img src=\"../images/polynomial_function.png\" alt=\"Polynomial Function\" >\n",
    "\n",
    "where M is the order of the polynomial, and xj denotes x raised to the power of j.\n",
    "The polynomial coefficients w0 , . . . , wM are collectively denoted by the vector w.\n",
    "Note that, although the polynomial function y(x, w) is a nonlinear function of x, it\n",
    "is a linear function of the coefficients w. Functions, such as this polynomial, that are\n",
    "linear in the unknown parameters have important properties, as well as significant\n",
    "limitations, and are called linear models."
   ]
  }
 ],
 "metadata": {
  "kernelspec": {
   "display_name": "dlfac",
   "language": "python",
   "name": "python3"
  },
  "language_info": {
   "codemirror_mode": {
    "name": "ipython",
    "version": 3
   },
   "file_extension": ".py",
   "mimetype": "text/x-python",
   "name": "python",
   "nbconvert_exporter": "python",
   "pygments_lexer": "ipython3",
   "version": "3.11.9"
  }
 },
 "nbformat": 4,
 "nbformat_minor": 2
}
