{
 "cells": [
  {
   "cell_type": "markdown",
   "metadata": {},
   "source": [
    "# Demonstrating Bayes' Theorem\n",
    "\n",
    "This notebook demonstrates Bayes' Theorem using Python and SymPy. Bayes' Theorem is a fundamental concept in probability theory and statistics, used to calculate conditional probabilities."
   ]
  },
  {
   "cell_type": "code",
   "execution_count": 1,
   "metadata": {},
   "outputs": [],
   "source": [
    "# Import necessary libraries\n",
    "from sympy import symbols, Eq, solve, simplify\n",
    "from sympy.stats import P, given"
   ]
  },
  {
   "cell_type": "markdown",
   "metadata": {},
   "source": [
    "## Bayes' Theorem\n",
    "\n",
    "Bayes' Theorem is expressed as:\n",
    "\n",
    "P(A|B) = (P(B|A) * P(A)) / P(B)\n",
    "\n",
    "Where:\n",
    "- P(A|B) is the probability of A given B\n",
    "- P(B|A) is the probability of B given A\n",
    "- P(A) is the prior probability of A\n",
    "- P(B) is the prior probability of B"
   ]
  },
  {
   "cell_type": "code",
   "execution_count": 2,
   "metadata": {},
   "outputs": [
    {
     "name": "stdout",
     "output_type": "stream",
     "text": [
      "Bayes' Theorem Equation:\n",
      "Eq(P(A|B), P(A)*P(B|A)/P(B))\n"
     ]
    }
   ],
   "source": [
    "# Define symbolic probabilities\n",
    "A, B = symbols('A B')\n",
    "P_A, P_B, P_B_given_A, P_A_given_B = symbols('P(A) P(B) P(B|A) P(A|B)')\n",
    "\n",
    "# Define Bayes' Theorem equation\n",
    "bayes_eq = Eq(P_A_given_B, (P_B_given_A * P_A) / P_B)\n",
    "\n",
    "print(\"Bayes' Theorem Equation:\")\n",
    "print(bayes_eq)"
   ]
  },
  {
   "cell_type": "markdown",
   "metadata": {},
   "source": [
    "## Example: Medical Test\n",
    "\n",
    "Let's apply Bayes' Theorem to a medical test scenario:\n",
    "\n",
    "- 1% of the population has a certain disease (A)\n",
    "- The test is 95% accurate for people with the disease (P(B|A) = 0.95)\n",
    "- The test has a 10% false positive rate (P(B|not A) = 0.10)\n",
    "\n",
    "We want to find the probability that a person has the disease given a positive test result."
   ]
  },
  {
   "cell_type": "code",
   "execution_count": 3,
   "metadata": {},
   "outputs": [
    {
     "name": "stdout",
     "output_type": "stream",
     "text": [
      "Applying Bayes' Theorem:\n",
      "Eq(P(A|B), 0.087557603686636)\n",
      "\n",
      "P(A|B) = 0.0876\n",
      "\n",
      "The probability of having the disease given a positive test result is approximately 8.76%\n"
     ]
    }
   ],
   "source": [
    "# Given probabilities\n",
    "P_A_val = 0.01  # P(A) - probability of having the disease\n",
    "P_B_given_A_val = 0.95  # P(B|A) - test accuracy for positive cases\n",
    "P_B_given_not_A_val = 0.10  # P(B|not A) - false positive rate\n",
    "\n",
    "# Calculate P(B) using the law of total probability\n",
    "P_B_val = P_B_given_A_val * P_A_val + P_B_given_not_A_val * (1 - P_A_val)\n",
    "\n",
    "# Apply Bayes' Theorem\n",
    "result = bayes_eq.subs({P_A: P_A_val, P_B: P_B_val, P_B_given_A: P_B_given_A_val})\n",
    "\n",
    "print(\"Applying Bayes' Theorem:\")\n",
    "print(result)\n",
    "print(f\"\\nP(A|B) = {result.rhs.evalf():.4f}\")\n",
    "\n",
    "print(f\"\\nThe probability of having the disease given a positive test result is approximately {result.rhs.evalf()*100:.2f}%\")"
   ]
  },
  {
   "cell_type": "markdown",
   "metadata": {},
   "source": [
    "## Interpretation\n",
    "\n",
    "Despite the test being 95% accurate for people with the disease, the probability of actually having the disease given a positive test result is much lower. This demonstrates the importance of considering base rates (prior probabilities) when interpreting test results."
   ]
  },
  {
   "cell_type": "markdown",
   "metadata": {},
   "source": [
    "## Using SymPy's Probability Functions\n",
    "\n",
    "We can also use SymPy's probability functions to represent Bayes' Theorem more concisely."
   ]
  },
  {
   "cell_type": "markdown",
   "metadata": {},
   "source": [
    "(The code below fails on the first line ... it fails on the given keyword ... )"
   ]
  },
  {
   "cell_type": "code",
   "execution_count": null,
   "metadata": {},
   "outputs": [],
   "source": [
    "# Define Bayes' Theorem using SymPy's probability functions\n",
    "bayes_sympy = Eq(P(A, given(B)), (P(B, given(A)) * P(A)) / P(B))\n",
    "\n",
    "print(\"Bayes' Theorem using SymPy's probability functions:\")\n",
    "print(bayes_sympy)\n",
    "\n",
    "# Substitute values\n",
    "result_sympy = bayes_sympy.subs({\n",
    "    P(A): P_A_val,\n",
    "    P(B): P_B_val,\n",
    "    P(B, given(A)): P_B_given_A_val\n",
    "})\n",
    "\n",
    "print(\"\\nApplying Bayes' Theorem:\")\n",
    "print(result_sympy)\n",
    "print(f\"\\nP(A|B) = {result_sympy.rhs.evalf():.4f}\")"
   ]
  },
  {
   "cell_type": "markdown",
   "metadata": {},
   "source": [
    "... so I grabbed an example of using the given keyword from the [docs](https://docs.sympy.org/latest/modules/stats.html#sympy.stats.given) ..."
   ]
  },
  {
   "cell_type": "code",
   "execution_count": 6,
   "metadata": {},
   "outputs": [
    {
     "data": {
      "text/plain": [
       "{4: 1/3, 5: 1/3, 6: 1/3}"
      ]
     },
     "execution_count": 6,
     "metadata": {},
     "output_type": "execute_result"
    }
   ],
   "source": [
    "from sympy.stats import given, density, Die\n",
    "X = Die('X', 6)\n",
    "Y = given(X, X > 3)\n",
    "density(Y).dict"
   ]
  },
  {
   "cell_type": "markdown",
   "metadata": {},
   "source": [
    "This notebook demonstrates how to use Bayes' Theorem both manually and with SymPy's probability functions. It provides a practical example of how Bayes' Theorem can be applied to real-world scenarios, such as interpreting medical test results."
   ]
  },
  {
   "cell_type": "markdown",
   "metadata": {},
   "source": [
    "Some parts of the above code does not work, so today I asked Claude \"Provide an example of Bayes Theorem in python using the sympy library.\" and got this ..."
   ]
  },
  {
   "cell_type": "code",
   "execution_count": 4,
   "metadata": {},
   "outputs": [
    {
     "name": "stdout",
     "output_type": "stream",
     "text": [
      "Bayes' Theorem:\n",
      "P(A)*P(B|A)/P(B)\n",
      "\n",
      "Example calculation:\n",
      "P(A|B) = 0.420000000000000\n"
     ]
    }
   ],
   "source": [
    "from sympy import Symbol, Eq, solve\n",
    "\n",
    "# Define symbols\n",
    "P_A = Symbol('P(A)')  # Prior probability of A\n",
    "P_B = Symbol('P(B)')  # Total probability of B\n",
    "P_B_given_A = Symbol('P(B|A)')  # Likelihood of B given A\n",
    "P_A_given_B = Symbol('P(A|B)')  # Posterior probability of A given B\n",
    "\n",
    "# Bayes' Theorem equation\n",
    "bayes_eq = Eq(P_A_given_B, (P_B_given_A * P_A) / P_B)\n",
    "\n",
    "# Solve for P(A|B)\n",
    "solution = solve(bayes_eq, P_A_given_B)[0]\n",
    "\n",
    "print(\"Bayes' Theorem:\")\n",
    "print(solution)\n",
    "\n",
    "# Example values\n",
    "P_A_val = 0.3  # Prior probability of A\n",
    "P_B_val = 0.5  # Total probability of B\n",
    "P_B_given_A_val = 0.7  # Likelihood of B given A\n",
    "\n",
    "# Calculate posterior probability\n",
    "posterior = solution.subs({P_A: P_A_val, P_B: P_B_val, P_B_given_A: P_B_given_A_val})\n",
    "\n",
    "print(\"\\nExample calculation:\")\n",
    "print(f\"P(A|B) = {posterior.evalf()}\")"
   ]
  },
  {
   "cell_type": "markdown",
   "metadata": {},
   "source": [
    "And then I followed up with this additional question ... \"Provide an example using having Cancer, where one person in a hundred has cancer, and a test for cancer where the test is 90% positive for someone with cancer, and 3% positive for someone without positive. Then use Bayes theorem to calculate the probablity of someone who is tested at random will have a positive test result.\" and got this ... \n",
    "\n",
    "Notice my wording in the query is kinda wonkey, and yet Claude produced what I wanted ... amazing!"
   ]
  },
  {
   "cell_type": "code",
   "execution_count": 5,
   "metadata": {},
   "outputs": [
    {
     "name": "stdout",
     "output_type": "stream",
     "text": [
      "Bayes' Theorem:\n",
      "P(C)*P(Pos|C)/P(Pos)\n",
      "\n",
      "Probability of cancer given a positive test result:\n",
      "P(C|Pos) = 0.2326\n",
      "\n",
      "Probability of a positive test result:\n",
      "P(Pos) = 0.0387\n"
     ]
    }
   ],
   "source": [
    "from sympy import Symbol, Eq, solve\n",
    "\n",
    "# Define symbols\n",
    "P_C = Symbol('P(C)')  # Prior probability of having cancer\n",
    "P_not_C = Symbol('P(not C)')  # Probability of not having cancer\n",
    "P_Pos_C = Symbol('P(Pos|C)')  # Probability of positive test given cancer\n",
    "P_Pos_not_C = Symbol('P(Pos|not C)')  # Probability of positive test given no cancer\n",
    "P_Pos = Symbol('P(Pos)')  # Total probability of a positive test\n",
    "P_C_Pos = Symbol('P(C|Pos)')  # Probability of cancer given a positive test\n",
    "\n",
    "# Given probabilities\n",
    "P_C_val = 1/100  # 1 in 100 people have cancer\n",
    "P_not_C_val = 1 - P_C_val\n",
    "P_Pos_C_val = 0.90  # 90% positive for someone with cancer\n",
    "P_Pos_not_C_val = 0.03  # 3% positive for someone without cancer\n",
    "\n",
    "# Calculate P(Pos) using the law of total probability\n",
    "P_Pos_val = P_C_val * P_Pos_C_val + P_not_C_val * P_Pos_not_C_val\n",
    "\n",
    "# Bayes' Theorem equation\n",
    "bayes_eq = Eq(P_C_Pos, (P_Pos_C * P_C) / P_Pos)\n",
    "\n",
    "# Solve for P(C|Pos)\n",
    "solution = solve(bayes_eq, P_C_Pos)[0]\n",
    "\n",
    "# Calculate the probability of cancer given a positive test\n",
    "result = solution.subs({P_C: P_C_val, P_Pos: P_Pos_val, P_Pos_C: P_Pos_C_val})\n",
    "\n",
    "print(\"Bayes' Theorem:\")\n",
    "print(solution)\n",
    "\n",
    "print(\"\\nProbability of cancer given a positive test result:\")\n",
    "print(f\"P(C|Pos) = {result.evalf():.4f}\")\n",
    "\n",
    "print(f\"\\nProbability of a positive test result:\")\n",
    "print(f\"P(Pos) = {P_Pos_val:.4f}\")"
   ]
  },
  {
   "cell_type": "markdown",
   "metadata": {},
   "source": [
    "I then asked Claude \"Using the same cancer example, express Bayes theorem using  Sympy's probability functions.\" and got this ... "
   ]
  },
  {
   "cell_type": "code",
   "execution_count": 7,
   "metadata": {},
   "outputs": [
    {
     "ename": "NameError",
     "evalue": "name 'Probability' is not defined",
     "output_type": "error",
     "traceback": [
      "\u001b[0;31m---------------------------------------------------------------------------\u001b[0m",
      "\u001b[0;31mNameError\u001b[0m                                 Traceback (most recent call last)",
      "Cell \u001b[0;32mIn[7], line 8\u001b[0m\n\u001b[1;32m      5\u001b[0m Pos \u001b[38;5;241m=\u001b[39m Symbol(\u001b[38;5;124m'\u001b[39m\u001b[38;5;124mPos\u001b[39m\u001b[38;5;124m'\u001b[39m)  \u001b[38;5;66;03m# Event of a positive test result\u001b[39;00m\n\u001b[1;32m      7\u001b[0m \u001b[38;5;66;03m# Define probability space\u001b[39;00m\n\u001b[0;32m----> 8\u001b[0m P \u001b[38;5;241m=\u001b[39m Symbol(\u001b[38;5;124m'\u001b[39m\u001b[38;5;124mP\u001b[39m\u001b[38;5;124m'\u001b[39m, \u001b[38;5;28mcls\u001b[39m\u001b[38;5;241m=\u001b[39m\u001b[43mProbability\u001b[49m)\n\u001b[1;32m     10\u001b[0m \u001b[38;5;66;03m# Given probabilities\u001b[39;00m\n\u001b[1;32m     11\u001b[0m P_C \u001b[38;5;241m=\u001b[39m \u001b[38;5;241m1\u001b[39m\u001b[38;5;241m/\u001b[39m\u001b[38;5;241m100\u001b[39m  \u001b[38;5;66;03m# Probability of having cancer (1 in 100)\u001b[39;00m\n",
      "\u001b[0;31mNameError\u001b[0m: name 'Probability' is not defined"
     ]
    }
   ],
   "source": [
    "from sympy import *\n",
    "\n",
    "# Define events\n",
    "C = Symbol('C')  # Event of having cancer\n",
    "Pos = Symbol('Pos')  # Event of a positive test result\n",
    "\n",
    "# Define probability space\n",
    "P = Symbol('P', cls=Probability)\n",
    "\n",
    "# Given probabilities\n",
    "P_C = 1/100  # Probability of having cancer (1 in 100)\n",
    "P_Pos_given_C = 9/10  # Probability of positive test given cancer (90%)\n",
    "P_Pos_given_not_C = 3/100  # Probability of positive test given no cancer (3%)\n",
    "\n",
    "# Calculate P(not C)\n",
    "P_not_C = 1 - P_C\n",
    "\n",
    "# Define conditional probabilities\n",
    "P_Pos_C = P(Pos | C)\n",
    "P_Pos_not_C = P(Pos | ~C)\n",
    "\n",
    "# Bayes' Theorem\n",
    "bayes_theorem = Eq(\n",
    "    P(C | Pos),\n",
    "    (P(C) * P(Pos | C)) / (P(C) * P(Pos | C) + P(~C) * P(Pos | ~C))\n",
    ")\n",
    "\n",
    "# Substitute known values\n",
    "bayes_result = bayes_theorem.subs({\n",
    "    P(C): P_C,\n",
    "    P(Pos | C): P_Pos_given_C,\n",
    "    P(Pos | ~C): P_Pos_given_not_C\n",
    "})\n",
    "\n",
    "# Solve for P(C | Pos)\n",
    "solution = solve(bayes_result, P(C | Pos))[0]\n",
    "\n",
    "print(\"Bayes' Theorem:\")\n",
    "print(bayes_theorem)\n",
    "\n",
    "print(\"\\nBayes' Theorem with substituted values:\")\n",
    "print(bayes_result)\n",
    "\n",
    "print(\"\\nProbability of cancer given a positive test result:\")\n",
    "print(f\"P(C | Pos) = {solution.evalf():.6f}\")\n",
    "\n",
    "# Calculate P(Pos) using the law of total probability\n",
    "P_Pos = P_C * P_Pos_given_C + P_not_C * P_Pos_given_not_C\n",
    "\n",
    "print(f\"\\nProbability of a positive test result:\")\n",
    "print(f\"P(Pos) = {P_Pos:.6f}\")"
   ]
  },
  {
   "cell_type": "markdown",
   "metadata": {},
   "source": [
    "I then sent that error to Claude, then got back this ..."
   ]
  },
  {
   "cell_type": "code",
   "execution_count": 8,
   "metadata": {},
   "outputs": [
    {
     "name": "stdout",
     "output_type": "stream",
     "text": [
      "Bayes' Theorem:\n",
      "Eq(P(C|Pos), P(Pos|C)/(100*(P(Pos|C)/100 + 99*P(Pos|~C)/100)))\n",
      "\n",
      "Bayes' Theorem with substituted values:\n",
      "Eq(P(C|Pos), 10/43)\n",
      "\n",
      "Probability of cancer given a positive test result:\n",
      "P(C|Pos) = 0.232558\n",
      "\n",
      "Probability of a positive test result:\n",
      "P(Pos) = 0.038700\n"
     ]
    }
   ],
   "source": [
    "from sympy import *\n",
    "\n",
    "# Define events\n",
    "C = Symbol('C')  # Event of having cancer\n",
    "Pos = Symbol('Pos')  # Event of a positive test result\n",
    "\n",
    "# Given probabilities\n",
    "P_C = S(1)/100  # Probability of having cancer (1 in 100)\n",
    "P_Pos_given_C = S(9)/10  # Probability of positive test given cancer (90%)\n",
    "P_Pos_given_not_C = S(3)/100  # Probability of positive test given no cancer (3%)\n",
    "\n",
    "# Calculate P(not C)\n",
    "P_not_C = 1 - P_C\n",
    "\n",
    "# Define conditional probabilities\n",
    "P_Pos_C = Symbol('P(Pos|C)')\n",
    "P_Pos_not_C = Symbol('P(Pos|~C)')\n",
    "\n",
    "# Bayes' Theorem\n",
    "bayes_theorem = Eq(\n",
    "    Symbol('P(C|Pos)'),\n",
    "    (P_C * P_Pos_C) / (P_C * P_Pos_C + P_not_C * P_Pos_not_C)\n",
    ")\n",
    "\n",
    "# Substitute known values\n",
    "bayes_result = bayes_theorem.subs({\n",
    "    P_C: P_C,\n",
    "    P_Pos_C: P_Pos_given_C,\n",
    "    P_Pos_not_C: P_Pos_given_not_C\n",
    "})\n",
    "\n",
    "# Solve for P(C|Pos)\n",
    "solution = solve(bayes_result, Symbol('P(C|Pos)'))[0]\n",
    "\n",
    "print(\"Bayes' Theorem:\")\n",
    "print(bayes_theorem)\n",
    "\n",
    "print(\"\\nBayes' Theorem with substituted values:\")\n",
    "print(bayes_result)\n",
    "\n",
    "print(\"\\nProbability of cancer given a positive test result:\")\n",
    "print(f\"P(C|Pos) = {solution.evalf():.6f}\")\n",
    "\n",
    "# Calculate P(Pos) using the law of total probability\n",
    "P_Pos = P_C * P_Pos_given_C + P_not_C * P_Pos_given_not_C\n",
    "\n",
    "print(f\"\\nProbability of a positive test result:\")\n",
    "print(f\"P(Pos) = {P_Pos.evalf():.6f}\")"
   ]
  }
 ],
 "metadata": {
  "kernelspec": {
   "display_name": "Python 3",
   "language": "python",
   "name": "python3"
  },
  "language_info": {
   "codemirror_mode": {
    "name": "ipython",
    "version": 3
   },
   "file_extension": ".py",
   "mimetype": "text/x-python",
   "name": "python",
   "nbconvert_exporter": "python",
   "pygments_lexer": "ipython3",
   "version": "3.11.9"
  }
 },
 "nbformat": 4,
 "nbformat_minor": 4
}
