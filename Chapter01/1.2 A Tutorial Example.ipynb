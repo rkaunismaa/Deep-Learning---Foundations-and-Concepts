{
 "cells": [
  {
   "cell_type": "markdown",
   "metadata": {},
   "source": [
    "## Chapter 1 The Deep Learning Revolution"
   ]
  },
  {
   "cell_type": "markdown",
   "metadata": {},
   "source": [
    "## 1.2 A Tutorial Example"
   ]
  },
  {
   "cell_type": "markdown",
   "metadata": {},
   "source": [
    "    For the newcomer to the field of machine learning, many of the basic concepts and\n",
    "    much of the terminology can be introduced in the context of a simple example in-\n",
    "    volving the fitting of a polynomial to a small synthetic data set (Bishop, 2006). This\n",
    "    is a form of supervised learning problem in which we would like to make a prediction\n",
    "    for a target variable, given the value of an input variable."
   ]
  },
  {
   "cell_type": "markdown",
   "metadata": {},
   "source": [
    "#### 1.2.1 Synthetic Data\n",
    "\n",
    "    We denote the input variable by x and the target variable by t, and we assume\n",
    "    that both variables take continuous values on the real axis. Suppose that we are\n",
    "    given a training set comprising N observations of x, written x1 , . . . , xN , together\n",
    "    with corresponding observations of the values of t, denoted t1 , . . . , tN . Our goal\n",
    "    is to predict the value of t for some new value of x. The ability to make accurate\n",
    "    predictions on previously unseen inputs is a key goal in machine learning and is\n",
    "    known as generalization."
   ]
  },
  {
   "cell_type": "code",
   "execution_count": 1,
   "metadata": {},
   "outputs": [],
   "source": [
    "# import desired libraries\n",
    "import numpy as np\n",
    "import matplotlib.pyplot as plt\n",
    "import math"
   ]
  },
  {
   "cell_type": "code",
   "execution_count": 2,
   "metadata": {},
   "outputs": [],
   "source": [
    "# set a few constantes\n",
    "SEED = 42\n",
    "N = 100 # The number of samples in our training set."
   ]
  },
  {
   "cell_type": "code",
   "execution_count": 3,
   "metadata": {},
   "outputs": [],
   "source": [
    "# make this code sample reproducable\n",
    "np.random.seed(SEED)"
   ]
  },
  {
   "cell_type": "markdown",
   "metadata": {},
   "source": [
    "<img src=\"../images/numpy.random.rand.png\" alt=\"Numpy random rand\" width=\"360\">"
   ]
  },
  {
   "cell_type": "code",
   "execution_count": 4,
   "metadata": {},
   "outputs": [
    {
     "data": {
      "text/plain": [
       "array([[0.37454012, 0.95071431],\n",
       "       [0.73199394, 0.59865848],\n",
       "       [0.15601864, 0.15599452]])"
      ]
     },
     "execution_count": 4,
     "metadata": {},
     "output_type": "execute_result"
    }
   ],
   "source": [
    "np.random.rand(3, 2)"
   ]
  },
  {
   "cell_type": "code",
   "execution_count": 5,
   "metadata": {},
   "outputs": [
    {
     "data": {
      "text/plain": [
       "array([ 1,  2,  3,  4,  5,  6,  7,  8,  9, 10, 11, 12, 13, 14, 15])"
      ]
     },
     "execution_count": 5,
     "metadata": {},
     "output_type": "execute_result"
    }
   ],
   "source": [
    "np.arange(1,16)"
   ]
  },
  {
   "cell_type": "code",
   "execution_count": 6,
   "metadata": {},
   "outputs": [],
   "source": [
    "def linearFunction(x, addNoise=False):\n",
    "\n",
    "    # we set the value of our linear function here ... \n",
    "    returnValue = (2 * math.pi * x)\n",
    "\n",
    "    if addNoise:\n",
    "        returnValue += np.random.rand()\n",
    "\n",
    "    return returnValue\n",
    "\n",
    "    "
   ]
  },
  {
   "cell_type": "code",
   "execution_count": 7,
   "metadata": {},
   "outputs": [
    {
     "data": {
      "text/plain": [
       "array([ 1,  2,  3,  4,  5,  6,  7,  8,  9, 10, 11, 12, 13, 14, 15, 16, 17,\n",
       "       18, 19, 20, 21, 22, 23, 24, 25, 26, 27, 28, 29, 30, 31, 32, 33, 34,\n",
       "       35, 36, 37, 38, 39, 40, 41, 42, 43, 44, 45, 46, 47, 48, 49, 50, 51,\n",
       "       52, 53, 54, 55, 56, 57, 58, 59, 60, 61, 62, 63, 64, 65, 66, 67, 68,\n",
       "       69, 70, 71, 72, 73, 74, 75, 76, 77, 78, 79, 80, 81, 82, 83, 84, 85,\n",
       "       86, 87, 88, 89, 90, 91, 92, 93, 94, 95, 96, 97, 98, 99])"
      ]
     },
     "execution_count": 7,
     "metadata": {},
     "output_type": "execute_result"
    }
   ],
   "source": [
    "X = np.arange(1,N)\n",
    "X"
   ]
  },
  {
   "cell_type": "code",
   "execution_count": 8,
   "metadata": {},
   "outputs": [
    {
     "data": {
      "text/plain": [
       "array([  6.28318531,  12.56637061,  18.84955592,  25.13274123,\n",
       "        31.41592654,  37.69911184,  43.98229715,  50.26548246,\n",
       "        56.54866776,  62.83185307,  69.11503838,  75.39822369,\n",
       "        81.68140899,  87.9645943 ,  94.24777961, 100.53096491,\n",
       "       106.81415022, 113.09733553, 119.38052084, 125.66370614,\n",
       "       131.94689145, 138.23007676, 144.51326207, 150.79644737,\n",
       "       157.07963268, 163.36281799, 169.64600329, 175.9291886 ,\n",
       "       182.21237391, 188.49555922, 194.77874452, 201.06192983,\n",
       "       207.34511514, 213.62830044, 219.91148575, 226.19467106,\n",
       "       232.47785637, 238.76104167, 245.04422698, 251.32741229,\n",
       "       257.61059759, 263.8937829 , 270.17696821, 276.46015352,\n",
       "       282.74333882, 289.02652413, 295.30970944, 301.59289474,\n",
       "       307.87608005, 314.15926536, 320.44245067, 326.72563597,\n",
       "       333.00882128, 339.29200659, 345.57519189, 351.8583772 ,\n",
       "       358.14156251, 364.42474782, 370.70793312, 376.99111843,\n",
       "       383.27430374, 389.55748905, 395.84067435, 402.12385966,\n",
       "       408.40704497, 414.69023027, 420.97341558, 427.25660089,\n",
       "       433.5397862 , 439.8229715 , 446.10615681, 452.38934212,\n",
       "       458.67252742, 464.95571273, 471.23889804, 477.52208335,\n",
       "       483.80526865, 490.08845396, 496.37163927, 502.65482457,\n",
       "       508.93800988, 515.22119519, 521.5043805 , 527.7875658 ,\n",
       "       534.07075111, 540.35393642, 546.63712172, 552.92030703,\n",
       "       559.20349234, 565.48667765, 571.76986295, 578.05304826,\n",
       "       584.33623357, 590.61941887, 596.90260418, 603.18578949,\n",
       "       609.4689748 , 615.7521601 , 622.03534541])"
      ]
     },
     "execution_count": 8,
     "metadata": {},
     "output_type": "execute_result"
    }
   ],
   "source": [
    "# no noise\n",
    "linearFunction(X, False)"
   ]
  },
  {
   "cell_type": "code",
   "execution_count": 9,
   "metadata": {},
   "outputs": [
    {
     "data": {
      "text/plain": [
       "array([  6.34126892,  12.62445423,  18.90763953,  25.19082484,\n",
       "        31.47401015,  37.75719546,  44.04038076,  50.32356607,\n",
       "        56.60675138,  62.88993668,  69.17312199,  75.4563073 ,\n",
       "        81.73949261,  88.02267791,  94.30586322, 100.58904853,\n",
       "       106.87223383, 113.15541914, 119.43860445, 125.72178976,\n",
       "       132.00497506, 138.28816037, 144.57134568, 150.85453098,\n",
       "       157.13771629, 163.4209016 , 169.70408691, 175.98727221,\n",
       "       182.27045752, 188.55364283, 194.83682813, 201.12001344,\n",
       "       207.40319875, 213.68638406, 219.96956936, 226.25275467,\n",
       "       232.53593998, 238.81912528, 245.10231059, 251.3854959 ,\n",
       "       257.66868121, 263.95186651, 270.23505182, 276.51823713,\n",
       "       282.80142244, 289.08460774, 295.36779305, 301.65097836,\n",
       "       307.93416366, 314.21734897, 320.50053428, 326.78371959,\n",
       "       333.06690489, 339.3500902 , 345.63327551, 351.91646081,\n",
       "       358.19964612, 364.48283143, 370.76601674, 377.04920204,\n",
       "       383.33238735, 389.61557266, 395.89875796, 402.18194327,\n",
       "       408.46512858, 414.74831389, 421.03149919, 427.3146845 ,\n",
       "       433.59786981, 439.88105511, 446.16424042, 452.44742573,\n",
       "       458.73061104, 465.01379634, 471.29698165, 477.58016696,\n",
       "       483.86335226, 490.14653757, 496.42972288, 502.71290819,\n",
       "       508.99609349, 515.2792788 , 521.56246411, 527.84564942,\n",
       "       534.12883472, 540.41202003, 546.69520534, 552.97839064,\n",
       "       559.26157595, 565.54476126, 571.82794657, 578.11113187,\n",
       "       584.39431718, 590.67750249, 596.96068779, 603.2438731 ,\n",
       "       609.52705841, 615.81024372, 622.09342902])"
      ]
     },
     "execution_count": 9,
     "metadata": {},
     "output_type": "execute_result"
    }
   ],
   "source": [
    "# add some noise to the results\n",
    "y = linearFunction(X, True)\n",
    "y"
   ]
  },
  {
   "cell_type": "markdown",
   "metadata": {},
   "source": [
    "What does this data look like?"
   ]
  },
  {
   "cell_type": "code",
   "execution_count": 10,
   "metadata": {},
   "outputs": [
    {
     "data": {
      "image/png": "[encoded data removed]",
      "text/plain": [
       "<Figure size 600x400 with 1 Axes>"
      ]
     },
     "metadata": {},
     "output_type": "display_data"
    }
   ],
   "source": [
    "import matplotlib.pyplot as plt\n",
    "\n",
    "plt.figure(figsize=(6, 4))\n",
    "plt.plot(X, y, \"b.\")\n",
    "plt.xlabel(\"$X$\")\n",
    "plt.ylabel(\"$y$\", rotation=0)\n",
    "plt.axis([0, N, 0, y.max()+5])\n",
    "plt.grid()\n",
    "# save_fig(\"generated_data_plot\")\n",
    "plt.show()"
   ]
  },
  {
   "cell_type": "markdown",
   "metadata": {},
   "source": [
    "#### 1.2.2 Linear Models\n",
    "\n",
    "Our goal is to exploit this training set to predict the value bt of the target variable\n",
    "for some new value x\n",
    "b of the input variable. As we will see later, this involves im-\n",
    "plicitly trying to discover the underlying function sin(2πx). This is intrinsically a\n",
    "difficult problem as we have to generalize from a finite data set to an entire function.\n",
    "Furthermore, the observed data is corrupted with noise, and so for a given x\n",
    "b there\n",
    "is uncertainty as to the appropriate value for bt. Probability theory provides a frame-\n",
    "work for expressing such uncertainty in a precise and quantitative manner, whereas\n",
    "decision theory allows us to exploit this probabilistic representation to make predic-\n",
    "tions that are optimal according to appropriate criteria. Learning probabilities from\n",
    "data lies at the heart of machine learning and will be explored in great detail in this\n",
    "book."
   ]
  },
  {
   "cell_type": "markdown",
   "metadata": {},
   "source": [
    "To start with, however, we will proceed rather informally and consider a simple approach based on curve fitting. \n",
    "In particular, we will fit the data using a polynomial function of the form\n",
    "\n",
    "<img src=\"../images/polynomial_function.png\" alt=\"Polynomial Function\" >\n",
    "\n",
    "where M is the order of the polynomial, and xj denotes x raised to the power of j.\n",
    "The polynomial coefficients w0 , . . . , wM are collectively denoted by the vector w.\n",
    "Note that, although the polynomial function y(x, w) is a nonlinear function of x, it\n",
    "is a linear function of the coefficients w. Functions, such as this polynomial, that are\n",
    "linear in the unknown parameters have important properties, as well as significant\n",
    "limitations, and are called linear models."
   ]
  }
 ],
 "metadata": {
  "kernelspec": {
   "display_name": "dlfac",
   "language": "python",
   "name": "python3"
  },
  "language_info": {
   "codemirror_mode": {
    "name": "ipython",
    "version": 3
   },
   "file_extension": ".py",
   "mimetype": "text/x-python",
   "name": "python",
   "nbconvert_exporter": "python",
   "pygments_lexer": "ipython3",
   "version": "3.11.9"
  }
 },
 "nbformat": 4,
 "nbformat_minor": 2
}
