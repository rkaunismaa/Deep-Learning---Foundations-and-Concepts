{
 "cells": [
  {
   "cell_type": "markdown",
   "metadata": {},
   "source": [
    "## 1.2 A Tutorial Example"
   ]
  },
  {
   "cell_type": "markdown",
   "metadata": {},
   "source": [
    "    For the newcomer to the field of machine learning, many of the basic concepts and\n",
    "    much of the terminology can be introduced in the context of a simple example in-\n",
    "    volving the fitting of a polynomial to a small synthetic data set (Bishop, 2006). This\n",
    "    is a form of supervised learning problem in which we would like to make a prediction\n",
    "    for a target variable, given the value of an input variable."
   ]
  },
  {
   "cell_type": "code",
   "execution_count": null,
   "metadata": {},
   "outputs": [],
   "source": []
  }
 ],
 "metadata": {
  "language_info": {
   "name": "python"
  }
 },
 "nbformat": 4,
 "nbformat_minor": 2
}
